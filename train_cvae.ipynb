{
 "cells": [
  {
   "cell_type": "markdown",
   "metadata": {},
   "source": [
    "# Training"
   ]
  },
  {
   "cell_type": "code",
   "execution_count": 1,
   "metadata": {},
   "outputs": [],
   "source": [
    "import time"
   ]
  },
  {
   "cell_type": "code",
   "execution_count": 2,
   "metadata": {},
   "outputs": [],
   "source": [
    "import numpy as np\n",
    "import pandas as pd\n",
    "import torch\n",
    "import torch.nn as nn\n",
    "from torch.optim import Adam\n",
    "from torch.utils.data import DataLoader\n",
    "from tqdm import tqdm"
   ]
  },
  {
   "cell_type": "code",
   "execution_count": 3,
   "metadata": {},
   "outputs": [],
   "source": [
    "import matplotlib.pyplot as plt\n",
    "import matplotlib.animation as animation\n",
    "from mpl_toolkits.mplot3d import Axes3D"
   ]
  },
  {
   "cell_type": "code",
   "execution_count": 4,
   "metadata": {},
   "outputs": [],
   "source": [
    "from src.starcattovae.training.data import Data\n",
    "\n",
    "from src.starcattovae.nn.vae import VAE\n",
    "from src.starcattovae.nn.cvae import CVAE\n",
    "from src.starcattovae.nn.cvae import Encoder, Decoder, Q"
   ]
  },
  {
   "cell_type": "code",
   "execution_count": 5,
   "metadata": {},
   "outputs": [],
   "source": [
    "from src.starcattovae.plotting import plot_loss\n",
    "from src.starcattovae.plotting import plot_individual_loss\n",
    "from src.starcattovae.plotting import plot_training_validation_loss\n",
    "from src.starcattovae.plotting import plot_reconstruction\n",
    "from src.starcattovae.plotting import plot_waveform_grid\n",
    "from src.starcattovae.plotting import plot_latent_morphs\n",
    "from src.starcattovae.plotting import animate_latent_morphs\n",
    "from src.starcattovae.plotting import plot_signal_distribution\n",
    "from src.starcattovae.plotting import plot_single_signal"
   ]
  },
  {
   "cell_type": "code",
   "execution_count": 6,
   "metadata": {},
   "outputs": [],
   "source": [
    "manualSeed = 99\n",
    "np.random.seed(manualSeed)\n",
    "torch.manual_seed(manualSeed)\n",
    "torch.use_deterministic_algorithms(True) # reproducibility"
   ]
  },
  {
   "cell_type": "markdown",
   "metadata": {},
   "source": [
    "### Define Parameters"
   ]
  },
  {
   "cell_type": "code",
   "execution_count": 7,
   "metadata": {},
   "outputs": [
    {
     "name": "stdout",
     "output_type": "stream",
     "text": [
      "Using device: mps\n"
     ]
    }
   ],
   "source": [
    "if torch.backends.mps.is_available() and torch.backends.mps.is_built():\n",
    "    DEVICE = \"mps\"\n",
    "else:\n",
    "    DEVICE = \"cpu\"\n",
    "\n",
    "print(f\"Using device: {DEVICE}\")\n",
    "\n",
    "# model parameters\n",
    "batch_size = 32\n",
    "epochs = 256 # need to change this to max epochs so we have early stopping\n",
    "\n",
    "signal_dim = 256\n",
    "modes = 32\n",
    "hidden_dim = 512\n",
    "latent_dim = 8\n",
    "lr = 1e-4\n",
    "\n",
    "multi_param = False\n",
    "\n",
    "if multi_param:\n",
    "    param_dim = 27\n",
    "else:\n",
    "    param_dim = 1"
   ]
  },
  {
   "cell_type": "markdown",
   "metadata": {},
   "source": [
    "## Load Training Data"
   ]
  },
  {
   "cell_type": "code",
   "execution_count": 8,
   "metadata": {},
   "outputs": [
    {
     "name": "stdout",
     "output_type": "stream",
     "text": [
      "Train and validation sets are different.\n"
     ]
    }
   ],
   "source": [
    "np.random.seed(42)\n",
    "indices = np.arange(1684) # this is the number of signals minus all the signals with beta_IC_b less than 0\n",
    "np.random.shuffle(indices)\n",
    "split_ratio = 0.9\n",
    "split_idx = int(len(indices) * split_ratio)\n",
    "train_indices = indices[:split_idx]\n",
    "validation_indices = indices[split_idx:]\n",
    "\n",
    "# Create train and validation datasets\n",
    "train_dataset = Data(indices=train_indices, train=True, multi_param=multi_param)\n",
    "validation_dataset = Data(indices=validation_indices, train=False, multi_param=multi_param)\n",
    "\n",
    "# Check for overlap\n",
    "train_indices_set = set(train_dataset.get_indices())\n",
    "validation_indices_set = set(validation_dataset.get_indices())\n",
    "\n",
    "overlap = train_indices_set.intersection(validation_indices_set)\n",
    "if len(overlap) == 0:\n",
    "    print(\"Train and validation sets are different.\")\n",
    "else:\n",
    "    print(\"Train and validation sets have overlap.\")"
   ]
  },
  {
   "cell_type": "code",
   "execution_count": 9,
   "metadata": {},
   "outputs": [
    {
     "name": "stdout",
     "output_type": "stream",
     "text": [
      "\u001b[32m2025-05-01 10:42:49.317\u001b[0m | \u001b[1mINFO    \u001b[0m | \u001b[36msrc.starcattovae.training.data\u001b[0m:\u001b[36msummary\u001b[0m:\u001b[36m118\u001b[0m - \u001b[1mSignal Dataset mean: -0.524 +/- 39.879\n",
      "Signal Dataset scaling factor (to match noise in generator): 5\n",
      "Signal Dataset max value: 656.2575073242188\n",
      "Signal Dataset shape: (256, 1515)\n",
      "Parameter Dataset shape: (1515, 1)\n",
      "\u001b[0m\n",
      "\u001b[32m2025-05-01 10:42:49.318\u001b[0m | \u001b[1mINFO    \u001b[0m | \u001b[36msrc.starcattovae.training.data\u001b[0m:\u001b[36msummary\u001b[0m:\u001b[36m118\u001b[0m - \u001b[1mSignal Dataset mean: -0.444 +/- 38.309\n",
      "Signal Dataset scaling factor (to match noise in generator): 5\n",
      "Signal Dataset max value: 626.9296875\n",
      "Signal Dataset shape: (256, 169)\n",
      "Parameter Dataset shape: (169, 1)\n",
      "\u001b[0m\n"
     ]
    }
   ],
   "source": [
    "train_dataset.summary()\n",
    "validation_dataset.summary()"
   ]
  },
  {
   "cell_type": "code",
   "execution_count": 10,
   "metadata": {},
   "outputs": [],
   "source": [
    "train_dataloader = DataLoader(train_dataset, batch_size=batch_size, shuffle=True, num_workers=0)\n",
    "validation_dataloader = DataLoader(validation_dataset, batch_size=batch_size, shuffle=False, num_workers=0)"
   ]
  },
  {
   "cell_type": "code",
   "execution_count": 11,
   "metadata": {},
   "outputs": [
    {
     "name": "stdout",
     "output_type": "stream",
     "text": [
      "Data shape: torch.Size([32, 1, 256])\n",
      "Parameter shape: torch.Size([32, 1, 1])\n",
      "Parameter example: tensor([[0.1741]])\n"
     ]
    }
   ],
   "source": [
    "for batch in train_dataloader:  # train_dataloader is the DataLoader object\n",
    "    data_example, param = batch  # Unpack batch\n",
    "    data_shape = data_example.shape\n",
    "    condition_dim = param.shape[1] if len(param.shape) > 1 else 1  # Assuming batch first\n",
    "\n",
    "    print(f\"Data shape: {data_shape}\")\n",
    "    print(f\"Parameter shape: {param.shape}\")\n",
    "    print(f\"Parameter example: {param[0]}\")\n",
    "    break  # Only process the first batch"
   ]
  },
  {
   "cell_type": "markdown",
   "metadata": {},
   "source": [
    "## Load VAE"
   ]
  },
  {
   "cell_type": "code",
   "execution_count": 12,
   "metadata": {},
   "outputs": [],
   "source": [
    "cvae = CVAE(latent_dim=latent_dim, hidden_dim=hidden_dim, param_dim=param_dim, signal_dim=signal_dim, num_components=modes, num_epochs=epochs, DEVICE=DEVICE).to(DEVICE)"
   ]
  },
  {
   "cell_type": "markdown",
   "metadata": {},
   "source": [
    "### Optimiser"
   ]
  },
  {
   "cell_type": "code",
   "execution_count": 13,
   "metadata": {},
   "outputs": [],
   "source": [
    "optimizer = Adam(cvae.parameters(), lr=lr)"
   ]
  },
  {
   "cell_type": "markdown",
   "metadata": {},
   "source": [
    "### Train VAE"
   ]
  },
  {
   "cell_type": "markdown",
   "metadata": {},
   "source": [
    "#### CVAE Training"
   ]
  },
  {
   "cell_type": "code",
   "execution_count": null,
   "metadata": {},
   "outputs": [
    {
     "name": "stdout",
     "output_type": "stream",
     "text": [
      "Start training CVAE...\n"
     ]
    },
    {
     "name": "stderr",
     "output_type": "stream",
     "text": [
      "Training:   0%|          | 1/256 [00:02<11:10,  2.63s/it]"
     ]
    },
    {
     "name": "stdout",
     "output_type": "stream",
     "text": [
      "Epoch 1, Train Loss: 0.2626\n",
      "Epoch 1, Train Reproduction Loss: -0.2582\n",
      "Epoch 1, Train KLD Loss: 0.0045\n"
     ]
    },
    {
     "name": "stderr",
     "output_type": "stream",
     "text": [
      "Training:   1%|          | 2/256 [00:04<09:49,  2.32s/it]"
     ]
    },
    {
     "name": "stdout",
     "output_type": "stream",
     "text": [
      "Epoch 2, Train Loss: -1.1203\n",
      "Epoch 2, Train Reproduction Loss: 1.1212\n",
      "Epoch 2, Train KLD Loss: 0.0009\n"
     ]
    },
    {
     "name": "stderr",
     "output_type": "stream",
     "text": [
      "Training:   1%|          | 3/256 [00:06<09:19,  2.21s/it]"
     ]
    },
    {
     "name": "stdout",
     "output_type": "stream",
     "text": [
      "Epoch 3, Train Loss: -1.2433\n",
      "Epoch 3, Train Reproduction Loss: 1.2433\n",
      "Epoch 3, Train KLD Loss: 0.0001\n"
     ]
    },
    {
     "name": "stderr",
     "output_type": "stream",
     "text": [
      "Training:   2%|▏         | 4/256 [00:08<08:52,  2.11s/it]"
     ]
    },
    {
     "name": "stdout",
     "output_type": "stream",
     "text": [
      "Epoch 4, Train Loss: -1.2765\n",
      "Epoch 4, Train Reproduction Loss: 1.2765\n",
      "Epoch 4, Train KLD Loss: 0.0000\n",
      "Epoch 5, Train Loss: -1.2331\n",
      "Epoch 5, Train Reproduction Loss: 1.2331\n",
      "Epoch 5, Train KLD Loss: 0.0000\n"
     ]
    },
    {
     "data": {
      "image/png": "[encoded data removed]",
      "text/plain": [
       "<Figure size 1000x600 with 1 Axes>"
      ]
     },
     "metadata": {},
     "output_type": "display_data"
    },
    {
     "name": "stderr",
     "output_type": "stream",
     "text": [
      "Training:   2%|▏         | 6/256 [00:20<16:11,  3.89s/it]"
     ]
    },
    {
     "name": "stdout",
     "output_type": "stream",
     "text": [
      "Epoch 6, Train Loss: -1.2528\n",
      "Epoch 6, Train Reproduction Loss: 1.2528\n",
      "Epoch 6, Train KLD Loss: 0.0000\n"
     ]
    },
    {
     "name": "stderr",
     "output_type": "stream",
     "text": [
      "Training:   3%|▎         | 7/256 [00:22<13:30,  3.26s/it]"
     ]
    },
    {
     "name": "stdout",
     "output_type": "stream",
     "text": [
      "Epoch 7, Train Loss: -1.3061\n",
      "Epoch 7, Train Reproduction Loss: 1.3061\n",
      "Epoch 7, Train KLD Loss: 0.0000\n"
     ]
    },
    {
     "name": "stderr",
     "output_type": "stream",
     "text": [
      "Training:   3%|▎         | 8/256 [00:24<11:46,  2.85s/it]"
     ]
    },
    {
     "name": "stdout",
     "output_type": "stream",
     "text": [
      "Epoch 8, Train Loss: -1.2473\n",
      "Epoch 8, Train Reproduction Loss: 1.2473\n",
      "Epoch 8, Train KLD Loss: 0.0000\n"
     ]
    },
    {
     "name": "stderr",
     "output_type": "stream",
     "text": [
      "Training:   4%|▎         | 9/256 [00:26<10:34,  2.57s/it]"
     ]
    },
    {
     "name": "stdout",
     "output_type": "stream",
     "text": [
      "Epoch 9, Train Loss: -1.2976\n",
      "Epoch 9, Train Reproduction Loss: 1.2976\n",
      "Epoch 9, Train KLD Loss: 0.0000\n",
      "Epoch 10, Train Loss: -1.2921\n",
      "Epoch 10, Train Reproduction Loss: 1.2921\n",
      "Epoch 10, Train KLD Loss: 0.0000\n"
     ]
    }
   ],
   "source": [
    "print(\"Start training CVAE...\")\n",
    "avg_total_losses = []\n",
    "avg_reproduction_losses = []\n",
    "avg_kld_losses = []\n",
    "\n",
    "avg_total_losses_validation = []\n",
    "avg_reproduction_losses_validation = []\n",
    "avg_kld_losses_validation = []\n",
    "\n",
    "\n",
    "# validation data for validation\n",
    "validation_y = []\n",
    "validation_x = []\n",
    "for y_validation, x_validation in validation_dataloader:\n",
    "    validation_y.append(y_validation.to(DEVICE))\n",
    "    validation_x.append(x_validation.to(DEVICE))\n",
    "\n",
    "validation_y = torch.cat(validation_y, dim=0)\n",
    "validation_x = torch.cat(validation_x, dim=0)\n",
    "\n",
    "\n",
    "for epoch in tqdm(range(epochs), desc=\"Training\"):\n",
    "    overall_total_loss = 0\n",
    "    overall_reproduction_loss = 0\n",
    "    overall_kld_loss = 0\n",
    "\n",
    "    overall_total_loss_validation = 0\n",
    "    overall_reproduction_loss_validation = 0\n",
    "    overall_kld_loss_validation = 0\n",
    "\n",
    "    total_samples = 0\n",
    "\n",
    "    for batch_idx, (y, x) in enumerate(train_dataloader, 0):\n",
    "        cvae.train()\n",
    "        y = y.view(x.size(0), -1)  # Reshape to (batch_size, 256) if needed\n",
    "        y = y.to(DEVICE)\n",
    "        # reshape to (batch_size, 1) if needed\n",
    "        x = x.view(x.size(0), -1)  # Reshape to (batch_size, 256) if needed\n",
    "        x = x.to(DEVICE)\n",
    "\n",
    "        optimizer.zero_grad()\n",
    "        r2_x_mean, total_loss, recontruction_loss_x, KLD = cvae.forward(x, y, epoch)\n",
    "        \n",
    "        overall_total_loss += total_loss.item()\n",
    "        overall_reproduction_loss += recontruction_loss_x.item()\n",
    "        overall_kld_loss += KLD.item()\n",
    "        total_samples += x.size(0)\n",
    "\n",
    "        total_loss.backward()\n",
    "        optimizer.step()\n",
    "\n",
    "        # validation losses\n",
    "        cvae.eval()\n",
    "        # with torch.no_grad():\n",
    "            # x_validation = validation_data\n",
    "            # y_validation = validation_conditions\n",
    "            # x_validation = x_validation.view(x_validation.size(0), -1).to(DEVICE)\n",
    "            # x_hat_validation, mean_validation, log_var_validation = model(x_validation, y_validation)\n",
    "            # total_loss_validation, reproduction_loss_validation, kld_loss_validation = loss_function(x_validation, x_hat_validation, mean_validation, log_var_validation)\n",
    "\n",
    "    # summarise training losses\n",
    "    avg_total_loss = overall_total_loss / total_samples\n",
    "    print(f\"Epoch {epoch+1}, Train Loss: {avg_total_loss:.4f}\")\n",
    "    avg_reproduction_loss = overall_reproduction_loss / total_samples\n",
    "    print(f\"Epoch {epoch+1}, Train Reproduction Loss: {avg_reproduction_loss:.4f}\")\n",
    "    avg_kld_loss = overall_kld_loss / total_samples\n",
    "    print(f\"Epoch {epoch+1}, Train KLD Loss: {avg_kld_loss:.4f}\")\n",
    "    \n",
    "    avg_total_losses.append(avg_total_loss)\n",
    "    avg_reproduction_losses.append(avg_reproduction_loss)\n",
    "    avg_kld_losses.append(avg_kld_loss)\n",
    "\n",
    "    # summarise validation losses\n",
    "    # avg_total_loss_validation = total_loss_validation.item() / x_validation.size(0)\n",
    "    # avg_reproduction_loss_validation = reproduction_loss_validation.item() / x_validation.size(0)\n",
    "    # avg_kld_loss_validation = kld_loss_validation.item() / x_validation.size(0)\n",
    "\n",
    "    # avg_total_losses_validation.append(avg_total_loss_validation)\n",
    "    # avg_reproduction_losses_validation.append(avg_reproduction_loss_validation)\n",
    "    # avg_kld_losses_validation.append(avg_kld_loss_validation)\n",
    "\n",
    "    # tqdm.write(f'Epoch {epoch+1}, Train Loss: {avg_total_loss:.4f}, Val Loss: {avg_total_loss_validation:.4f}')\n",
    "\n",
    "    if (epoch + 1) % 5 == 0:\n",
    "    #     x = x.cpu().detach()\n",
    "    #     x_hat = x_hat.cpu().detach()\n",
    "    #     plot_reconstruction(x[0], x_hat[0], max_value=train_dataset.max_value)\n",
    "\n",
    "    #     with torch.no_grad():\n",
    "    #         generated_signals = model.decoder(noise, condition_noise).cpu().detach().numpy()\n",
    "        \n",
    "    #     plot_waveform_grid(signals=generated_signals, max_value=train_dataset.max_value)\n",
    "\n",
    "    #     idx1 = torch.randint(0, x.size(0), (1,)).item()\n",
    "    #     idx2 = idx1\n",
    "\n",
    "    #     while idx2 == idx1: # ensures we don't sample the same signal\n",
    "    #         idx2 = torch.randint(0, x.size(0), (1,)).item()\n",
    "\n",
    "    #     signal_1 = x[idx1].to(DEVICE)\n",
    "    #     signal_2 = x[idx2].to(DEVICE)\n",
    "    #     condition_1 = y[idx1].to(DEVICE)\n",
    "    #     condition_2 = y[idx2].to(DEVICE)\n",
    "        \n",
    "    #     plot_latent_morphs(model_conditional, signal_1, signal_2, max_value=train_dataset.max_value, steps=8)\n",
    "\n",
    "        # posterior test samples\n",
    "        with torch.no_grad():\n",
    "            x_samples = cvae.posterior_samples(validation_y[0], 3000)\n",
    "\n",
    "        # Plot histogram of posterior samples\n",
    "        plt.figure(figsize=(10, 6))\n",
    "        plt.hist(x_samples.cpu().numpy(), bins=50, alpha=0.5, label='Posterior Samples', density=True)\n",
    "\n",
    "        # Add a vertical line for the true value\n",
    "        true_value = validation_x[0].cpu().numpy()\n",
    "        plt.axvline(true_value, color='red', linestyle='--', label='True x')\n",
    "        plt.xlim(0, 0.2)\n",
    "        plt.title('Posterior Samples vs True x')\n",
    "        plt.xlabel('Value')\n",
    "        plt.ylabel('Density')\n",
    "        plt.legend()\n",
    "        plt.show()\n",
    "\n",
    "print(\"Training finished!\")\n",
    "cvae.eval()"
   ]
  },
  {
   "cell_type": "markdown",
   "metadata": {},
   "source": [
    "### Training and Validation Loss"
   ]
  },
  {
   "cell_type": "code",
   "execution_count": null,
   "metadata": {},
   "outputs": [],
   "source": [
    "plot_training_validation_loss(avg_total_losses, avg_total_losses_validation)"
   ]
  },
  {
   "cell_type": "code",
   "execution_count": null,
   "metadata": {},
   "outputs": [],
   "source": [
    "plot_individual_loss(avg_total_losses, avg_reproduction_losses, avg_kld_losses)"
   ]
  },
  {
   "cell_type": "markdown",
   "metadata": {},
   "source": [
    "### Generated XXXXX Signals"
   ]
  },
  {
   "cell_type": "code",
   "execution_count": null,
   "metadata": {},
   "outputs": [],
   "source": [
    "number_of_signals = 10000\n",
    "noise = torch.randn(number_of_signals, latent_dim).to(DEVICE)\n",
    "\n",
    "start_time = time.time()\n",
    "with torch.no_grad():\n",
    "    generated_signals = model.decoder(noise).cpu().detach().numpy()\n",
    "end_time = time.time()\n",
    "\n",
    "execution_time = end_time - start_time\n",
    "print(\"Execution Time:\", execution_time, \"seconds\")"
   ]
  },
  {
   "cell_type": "code",
   "execution_count": null,
   "metadata": {},
   "outputs": [],
   "source": [
    "# generated_signals_transpose = np.empty((x_length, 0))\n",
    "\n",
    "for i in range(number_of_signals):\n",
    "    y = generated_signals[i, :].flatten()\n",
    "    y = y * train_dataset.max_value\n",
    "    y = y.reshape(-1, 1)\n",
    "    \n",
    "    generated_signals_transpose = np.concatenate((generated_signals_transpose, y), axis=1)\n",
    "\n",
    "# save_path = \"../generated_signals.csv\"\n",
    "np.savetxt(save_path, generated_signals_transpose, delimiter=\",\")"
   ]
  },
  {
   "cell_type": "markdown",
   "metadata": {},
   "source": [
    "### Plot Generated Distribution"
   ]
  },
  {
   "cell_type": "code",
   "execution_count": null,
   "metadata": {},
   "outputs": [],
   "source": [
    "plot_signal_distribution(generated_signals_transpose, generated=True)"
   ]
  },
  {
   "cell_type": "markdown",
   "metadata": {},
   "source": [
    "### Morph Animation"
   ]
  },
  {
   "cell_type": "code",
   "execution_count": null,
   "metadata": {},
   "outputs": [],
   "source": [
    "# select signals here\n",
    "\n",
    "# plot and save animations\n",
    "signal_1 = x[0].to(DEVICE)\n",
    "signal_2 = x[7].to(DEVICE)\n",
    "# animate_latent_morphs(model, signal_1, signal_2, train_dataset.max_value, train_dataset, steps=100, interval=200, save_path=\"latent_morph_animation_3.gif\")"
   ]
  }
 ],
 "metadata": {
  "kernelspec": {
   "display_name": ".venv",
   "language": "python",
   "name": "python3"
  },
  "language_info": {
   "codemirror_mode": {
    "name": "ipython",
    "version": 3
   },
   "file_extension": ".py",
   "mimetype": "text/x-python",
   "name": "python",
   "nbconvert_exporter": "python",
   "pygments_lexer": "ipython3",
   "version": "3.9.6"
  }
 },
 "nbformat": 4,
 "nbformat_minor": 2
}
