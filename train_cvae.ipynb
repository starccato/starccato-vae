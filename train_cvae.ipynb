{
 "cells": [
  {
   "cell_type": "markdown",
   "metadata": {},
   "source": [
    "# Training"
   ]
  },
  {
   "cell_type": "code",
   "execution_count": 1,
   "metadata": {},
   "outputs": [],
   "source": [
    "import time"
   ]
  },
  {
   "cell_type": "code",
   "execution_count": 2,
   "metadata": {},
   "outputs": [],
   "source": [
    "import numpy as np\n",
    "import pandas as pd\n",
    "import torch\n",
    "import torch.nn as nn\n",
    "from torch.optim import Adam\n",
    "from torch.utils.data import DataLoader\n",
    "from tqdm import tqdm"
   ]
  },
  {
   "cell_type": "code",
   "execution_count": 3,
   "metadata": {},
   "outputs": [],
   "source": [
    "import matplotlib.pyplot as plt\n",
    "import matplotlib.animation as animation\n",
    "from mpl_toolkits.mplot3d import Axes3D"
   ]
  },
  {
   "cell_type": "code",
   "execution_count": 4,
   "metadata": {},
   "outputs": [],
   "source": [
    "from src.starcattovae.training.data import Data\n",
    "\n",
    "from src.starcattovae.nn.vae import VAE\n",
    "from src.starcattovae.nn.cvae import CVAE\n",
    "from src.starcattovae.nn.cvae import Encoder, Decoder, Q"
   ]
  },
  {
   "cell_type": "code",
   "execution_count": 5,
   "metadata": {},
   "outputs": [],
   "source": [
    "from src.starcattovae.plotting import plot_loss\n",
    "from src.starcattovae.plotting import plot_individual_loss\n",
    "from src.starcattovae.plotting import plot_training_validation_loss\n",
    "from src.starcattovae.plotting import plot_reconstruction\n",
    "from src.starcattovae.plotting import plot_waveform_grid\n",
    "from src.starcattovae.plotting import plot_latent_morphs\n",
    "from src.starcattovae.plotting import animate_latent_morphs\n",
    "from src.starcattovae.plotting import plot_signal_distribution\n",
    "from src.starcattovae.plotting import plot_single_signal"
   ]
  },
  {
   "cell_type": "code",
   "execution_count": 6,
   "metadata": {},
   "outputs": [],
   "source": [
    "manualSeed = 99\n",
    "np.random.seed(manualSeed)\n",
    "torch.manual_seed(manualSeed)\n",
    "torch.use_deterministic_algorithms(True) # reproducibility"
   ]
  },
  {
   "cell_type": "markdown",
   "metadata": {},
   "source": [
    "### Define Parameters"
   ]
  },
  {
   "cell_type": "code",
   "execution_count": 7,
   "metadata": {},
   "outputs": [
    {
     "name": "stdout",
     "output_type": "stream",
     "text": [
      "Using device: mps\n"
     ]
    }
   ],
   "source": [
    "if torch.backends.mps.is_available() and torch.backends.mps.is_built():\n",
    "    DEVICE = \"mps\"\n",
    "else:\n",
    "    DEVICE = \"cpu\"\n",
    "\n",
    "print(f\"Using device: {DEVICE}\")\n",
    "\n",
    "# model parameters\n",
    "batch_size = 32\n",
    "epochs = 512 # need to change this to max epochs so we have early stopping\n",
    "\n",
    "param_dim = 27\n",
    "signal_dim = 256\n",
    "modes = 32\n",
    "hidden_dim = 512\n",
    "latent_dim = 8\n",
    "lr = 1e-4"
   ]
  },
  {
   "cell_type": "markdown",
   "metadata": {},
   "source": [
    "## Load Training Data"
   ]
  },
  {
   "cell_type": "code",
   "execution_count": 8,
   "metadata": {},
   "outputs": [
    {
     "name": "stdout",
     "output_type": "stream",
     "text": [
      "Train and validation sets are different.\n"
     ]
    }
   ],
   "source": [
    "np.random.seed(42)\n",
    "indices = np.arange(1684) # this is the number of signals minus all the signals with beta_IC_b less than 0\n",
    "np.random.shuffle(indices)\n",
    "split_ratio = 0.9\n",
    "split_idx = int(len(indices) * split_ratio)\n",
    "train_indices = indices[:split_idx]\n",
    "validation_indices = indices[split_idx:]\n",
    "\n",
    "# Create train and validation datasets\n",
    "train_dataset = Data(indices=train_indices, train=True)\n",
    "validation_dataset = Data(indices=validation_indices, train=False)\n",
    "\n",
    "# Check for overlap\n",
    "train_indices_set = set(train_dataset.get_indices())\n",
    "validation_indices_set = set(validation_dataset.get_indices())\n",
    "\n",
    "overlap = train_indices_set.intersection(validation_indices_set)\n",
    "if len(overlap) == 0:\n",
    "    print(\"Train and validation sets are different.\")\n",
    "else:\n",
    "    print(\"Train and validation sets have overlap.\")"
   ]
  },
  {
   "cell_type": "code",
   "execution_count": 9,
   "metadata": {},
   "outputs": [
    {
     "name": "stdout",
     "output_type": "stream",
     "text": [
      "\u001b[32m2025-04-14 23:16:14.012\u001b[0m | \u001b[1mINFO    \u001b[0m | \u001b[36msrc.starcattovae.training.data\u001b[0m:\u001b[36msummary\u001b[0m:\u001b[36m108\u001b[0m - \u001b[1mSignal Dataset mean: -0.524 +/- 39.879\n",
      "Signal Dataset scaling factor (to match noise in generator): 5\n",
      "Signal Dataset max value: 656.2575073242188\n",
      "Signal Dataset shape: (256, 1515)\n",
      "Parameter Dataset shape: (1515, 27)\n",
      "\u001b[0m\n",
      "\u001b[32m2025-04-14 23:16:14.013\u001b[0m | \u001b[1mINFO    \u001b[0m | \u001b[36msrc.starcattovae.training.data\u001b[0m:\u001b[36msummary\u001b[0m:\u001b[36m108\u001b[0m - \u001b[1mSignal Dataset mean: -0.444 +/- 38.309\n",
      "Signal Dataset scaling factor (to match noise in generator): 5\n",
      "Signal Dataset max value: 626.9296875\n",
      "Signal Dataset shape: (256, 169)\n",
      "Parameter Dataset shape: (169, 27)\n",
      "\u001b[0m\n"
     ]
    }
   ],
   "source": [
    "train_dataset.summary()\n",
    "validation_dataset.summary()"
   ]
  },
  {
   "cell_type": "code",
   "execution_count": 10,
   "metadata": {},
   "outputs": [],
   "source": [
    "train_dataloader = DataLoader(train_dataset, batch_size=batch_size, shuffle=True, num_workers=0)\n",
    "validation_dataloader = DataLoader(validation_dataset, batch_size=batch_size, shuffle=False, num_workers=0)"
   ]
  },
  {
   "cell_type": "code",
   "execution_count": 11,
   "metadata": {},
   "outputs": [
    {
     "name": "stdout",
     "output_type": "stream",
     "text": [
      "Data shape: torch.Size([32, 1, 256])\n",
      "Parameter shape: torch.Size([32, 1, 27])\n",
      "Parameter example: tensor([[0.1741, 0.0000, 0.0000, 1.0000, 0.0000, 0.0000, 0.0000, 0.0000, 0.0000,\n",
      "         0.0000, 0.0000, 0.0000, 0.0000, 0.0000, 0.0000, 0.0000, 0.0000, 0.0000,\n",
      "         0.0000, 0.0000, 0.0000, 0.0000, 0.0000, 0.0000, 0.0000, 0.0000, 1.0000]])\n"
     ]
    }
   ],
   "source": [
    "for batch in train_dataloader:  # train_dataloader is the DataLoader object\n",
    "    data_example, param = batch  # Unpack batch\n",
    "    data_shape = data_example.shape\n",
    "    condition_dim = param.shape[1] if len(param.shape) > 1 else 1  # Assuming batch first\n",
    "\n",
    "    print(f\"Data shape: {data_shape}\")\n",
    "    print(f\"Parameter shape: {param.shape}\")\n",
    "    print(f\"Parameter example: {param[0]}\")\n",
    "    break  # Only process the first batch"
   ]
  },
  {
   "cell_type": "markdown",
   "metadata": {},
   "source": [
    "## Load VAE"
   ]
  },
  {
   "cell_type": "code",
   "execution_count": 12,
   "metadata": {},
   "outputs": [],
   "source": [
    "model = CVAE(latent_dim=latent_dim, hidden_dim=hidden_dim, param_dim=param_dim, signal_dim=signal_dim, num_components=modes, num_epochs=epochs, DEVICE=DEVICE).to(DEVICE)"
   ]
  },
  {
   "cell_type": "markdown",
   "metadata": {},
   "source": [
    "### Optimiser"
   ]
  },
  {
   "cell_type": "code",
   "execution_count": 13,
   "metadata": {},
   "outputs": [],
   "source": [
    "optimizer = Adam(model.parameters(), lr=lr)"
   ]
  },
  {
   "cell_type": "markdown",
   "metadata": {},
   "source": [
    "### Train VAE"
   ]
  },
  {
   "cell_type": "markdown",
   "metadata": {},
   "source": [
    "#### CVAE Training"
   ]
  },
  {
   "cell_type": "code",
   "execution_count": 14,
   "metadata": {},
   "outputs": [
    {
     "name": "stdout",
     "output_type": "stream",
     "text": [
      "Start training CVAE...\n"
     ]
    },
    {
     "name": "stderr",
     "output_type": "stream",
     "text": [
      "Training:   0%|          | 0/512 [00:00<?, ?it/s]"
     ]
    },
    {
     "name": "stdout",
     "output_type": "stream",
     "text": [
      "torch.Size([32, 27])\n",
      "torch.Size([32, 256])\n",
      "torch.Size([32, 512])\n",
      "torch.Size([32, 539])\n"
     ]
    },
    {
     "name": "stderr",
     "output_type": "stream",
     "text": [
      "\n"
     ]
    },
    {
     "ename": "TypeError",
     "evalue": "log(): argument 'input' (position 1) must be Tensor, not float",
     "output_type": "error",
     "traceback": [
      "\u001b[0;31m---------------------------------------------------------------------------\u001b[0m",
      "\u001b[0;31mTypeError\u001b[0m                                 Traceback (most recent call last)",
      "Cell \u001b[0;32mIn[14], line 43\u001b[0m\n\u001b[1;32m     39\u001b[0m x \u001b[38;5;241m=\u001b[39m x\u001b[38;5;241m.\u001b[39mto(DEVICE)\n\u001b[1;32m     41\u001b[0m optimizer\u001b[38;5;241m.\u001b[39mzero_grad()\n\u001b[0;32m---> 43\u001b[0m r2_x_mean, total_loss, recontruction_loss_x, KLD \u001b[38;5;241m=\u001b[39m \u001b[43mmodel\u001b[49m\u001b[43m(\u001b[49m\u001b[43mx\u001b[49m\u001b[43m,\u001b[49m\u001b[43m \u001b[49m\u001b[43my\u001b[49m\u001b[43m,\u001b[49m\u001b[43m \u001b[49m\u001b[43mepoch\u001b[49m\u001b[43m)\u001b[49m\n\u001b[1;32m     45\u001b[0m overall_total_loss \u001b[38;5;241m+\u001b[39m\u001b[38;5;241m=\u001b[39m total_loss\u001b[38;5;241m.\u001b[39mitem()\n\u001b[1;32m     46\u001b[0m overall_reproduction_loss \u001b[38;5;241m+\u001b[39m\u001b[38;5;241m=\u001b[39m recontruction_loss_x\u001b[38;5;241m.\u001b[39mitem()\n",
      "File \u001b[0;32m~/Desktop/starccato/starccato-vae/.venv/lib/python3.9/site-packages/torch/nn/modules/module.py:1739\u001b[0m, in \u001b[0;36mModule._wrapped_call_impl\u001b[0;34m(self, *args, **kwargs)\u001b[0m\n\u001b[1;32m   1737\u001b[0m     \u001b[38;5;28;01mreturn\u001b[39;00m \u001b[38;5;28mself\u001b[39m\u001b[38;5;241m.\u001b[39m_compiled_call_impl(\u001b[38;5;241m*\u001b[39margs, \u001b[38;5;241m*\u001b[39m\u001b[38;5;241m*\u001b[39mkwargs)  \u001b[38;5;66;03m# type: ignore[misc]\u001b[39;00m\n\u001b[1;32m   1738\u001b[0m \u001b[38;5;28;01melse\u001b[39;00m:\n\u001b[0;32m-> 1739\u001b[0m     \u001b[38;5;28;01mreturn\u001b[39;00m \u001b[38;5;28;43mself\u001b[39;49m\u001b[38;5;241;43m.\u001b[39;49m\u001b[43m_call_impl\u001b[49m\u001b[43m(\u001b[49m\u001b[38;5;241;43m*\u001b[39;49m\u001b[43margs\u001b[49m\u001b[43m,\u001b[49m\u001b[43m \u001b[49m\u001b[38;5;241;43m*\u001b[39;49m\u001b[38;5;241;43m*\u001b[39;49m\u001b[43mkwargs\u001b[49m\u001b[43m)\u001b[49m\n",
      "File \u001b[0;32m~/Desktop/starccato/starccato-vae/.venv/lib/python3.9/site-packages/torch/nn/modules/module.py:1750\u001b[0m, in \u001b[0;36mModule._call_impl\u001b[0;34m(self, *args, **kwargs)\u001b[0m\n\u001b[1;32m   1745\u001b[0m \u001b[38;5;66;03m# If we don't have any hooks, we want to skip the rest of the logic in\u001b[39;00m\n\u001b[1;32m   1746\u001b[0m \u001b[38;5;66;03m# this function, and just call forward.\u001b[39;00m\n\u001b[1;32m   1747\u001b[0m \u001b[38;5;28;01mif\u001b[39;00m \u001b[38;5;129;01mnot\u001b[39;00m (\u001b[38;5;28mself\u001b[39m\u001b[38;5;241m.\u001b[39m_backward_hooks \u001b[38;5;129;01mor\u001b[39;00m \u001b[38;5;28mself\u001b[39m\u001b[38;5;241m.\u001b[39m_backward_pre_hooks \u001b[38;5;129;01mor\u001b[39;00m \u001b[38;5;28mself\u001b[39m\u001b[38;5;241m.\u001b[39m_forward_hooks \u001b[38;5;129;01mor\u001b[39;00m \u001b[38;5;28mself\u001b[39m\u001b[38;5;241m.\u001b[39m_forward_pre_hooks\n\u001b[1;32m   1748\u001b[0m         \u001b[38;5;129;01mor\u001b[39;00m _global_backward_pre_hooks \u001b[38;5;129;01mor\u001b[39;00m _global_backward_hooks\n\u001b[1;32m   1749\u001b[0m         \u001b[38;5;129;01mor\u001b[39;00m _global_forward_hooks \u001b[38;5;129;01mor\u001b[39;00m _global_forward_pre_hooks):\n\u001b[0;32m-> 1750\u001b[0m     \u001b[38;5;28;01mreturn\u001b[39;00m \u001b[43mforward_call\u001b[49m\u001b[43m(\u001b[49m\u001b[38;5;241;43m*\u001b[39;49m\u001b[43margs\u001b[49m\u001b[43m,\u001b[49m\u001b[43m \u001b[49m\u001b[38;5;241;43m*\u001b[39;49m\u001b[38;5;241;43m*\u001b[39;49m\u001b[43mkwargs\u001b[49m\u001b[43m)\u001b[49m\n\u001b[1;32m   1752\u001b[0m result \u001b[38;5;241m=\u001b[39m \u001b[38;5;28;01mNone\u001b[39;00m\n\u001b[1;32m   1753\u001b[0m called_always_called_hooks \u001b[38;5;241m=\u001b[39m \u001b[38;5;28mset\u001b[39m()\n",
      "File \u001b[0;32m~/Desktop/starccato/starccato-vae/src/starcattovae/nn/cvae.py:43\u001b[0m, in \u001b[0;36mCVAE.forward\u001b[0;34m(self, x, y, epoch)\u001b[0m\n\u001b[1;32m     40\u001b[0m r2_x_mean, r2_x_log_var \u001b[38;5;241m=\u001b[39m \u001b[38;5;28mself\u001b[39m\u001b[38;5;241m.\u001b[39mr2(q_zxy_z_samp, y)\n\u001b[1;32m     42\u001b[0m \u001b[38;5;66;03m# calculate losses\u001b[39;00m\n\u001b[0;32m---> 43\u001b[0m loss, reconstruction_loss_x, KL \u001b[38;5;241m=\u001b[39m \u001b[38;5;28;43mself\u001b[39;49m\u001b[38;5;241;43m.\u001b[39;49m\u001b[43mloss\u001b[49m\u001b[43m(\u001b[49m\u001b[43mx\u001b[49m\u001b[43m,\u001b[49m\u001b[43m \u001b[49m\u001b[43my\u001b[49m\u001b[43m,\u001b[49m\u001b[43m \u001b[49m\u001b[43mr2_x_mean\u001b[49m\u001b[43m,\u001b[49m\u001b[43m \u001b[49m\u001b[43mr2_x_log_var\u001b[49m\u001b[43m,\u001b[49m\u001b[43m \u001b[49m\u001b[43mq_zxy_z_samp\u001b[49m\u001b[43m,\u001b[49m\u001b[43m \u001b[49m\u001b[43mq_zxy_mean\u001b[49m\u001b[43m,\u001b[49m\u001b[43m \u001b[49m\u001b[43mq_zxy_log_var\u001b[49m\u001b[43m,\u001b[49m\u001b[43m \u001b[49m\u001b[43mr1_mean\u001b[49m\u001b[43m,\u001b[49m\u001b[43m \u001b[49m\u001b[43mr1_log_var\u001b[49m\u001b[43m,\u001b[49m\u001b[43m \u001b[49m\u001b[43mr1_weights\u001b[49m\u001b[43m,\u001b[49m\u001b[43m \u001b[49m\u001b[43mbimix_gauss\u001b[49m\u001b[43m,\u001b[49m\u001b[43m \u001b[49m\u001b[43mepoch\u001b[49m\u001b[43m)\u001b[49m\n\u001b[1;32m     45\u001b[0m \u001b[38;5;28;01mreturn\u001b[39;00m r2_x_mean, loss, reconstruction_loss_x, KL\n",
      "File \u001b[0;32m~/Desktop/starccato/starccato-vae/src/starcattovae/nn/cvae.py:56\u001b[0m, in \u001b[0;36mCVAE.loss\u001b[0;34m(self, x, y, r2_x_mean, r2_x_log_var, q_zxy_z_samp, q_zxy_mean, q_zxy_log_var, r1_mean, r1_log_var, r1_weights, bimix_gauss, epoch)\u001b[0m\n\u001b[1;32m     54\u001b[0m \u001b[38;5;28;01mdef\u001b[39;00m\u001b[38;5;250m \u001b[39m\u001b[38;5;21mloss\u001b[39m(\u001b[38;5;28mself\u001b[39m, x, y, r2_x_mean, r2_x_log_var, q_zxy_z_samp, q_zxy_mean, q_zxy_log_var, r1_mean, r1_log_var, r1_weights, bimix_gauss, epoch):\n\u001b[1;32m     55\u001b[0m     small_constant \u001b[38;5;241m=\u001b[39m \u001b[38;5;241m1e-8\u001b[39m\n\u001b[0;32m---> 56\u001b[0m     normalising_factor_x \u001b[38;5;241m=\u001b[39m \u001b[38;5;241m-\u001b[39m\u001b[38;5;241m0.5\u001b[39m \u001b[38;5;241m*\u001b[39m (r2_x_log_var \u001b[38;5;241m+\u001b[39m \u001b[43mtorch\u001b[49m\u001b[38;5;241;43m.\u001b[39;49m\u001b[43mlog\u001b[49m\u001b[43m(\u001b[49m\u001b[38;5;241;43m2.0\u001b[39;49m\u001b[43m \u001b[49m\u001b[38;5;241;43m*\u001b[39;49m\u001b[43m \u001b[49m\u001b[43mtorch\u001b[49m\u001b[38;5;241;43m.\u001b[39;49m\u001b[43mpi\u001b[49m\u001b[43m \u001b[49m\u001b[38;5;241;43m+\u001b[39;49m\u001b[43m \u001b[49m\u001b[43msmall_constant\u001b[49m\u001b[43m)\u001b[49m)\n\u001b[1;32m     57\u001b[0m     square_diff_between_mu_and_x \u001b[38;5;241m=\u001b[39m (r2_x_mean \u001b[38;5;241m-\u001b[39m x) \u001b[38;5;241m*\u001b[39m\u001b[38;5;241m*\u001b[39m \u001b[38;5;241m2\u001b[39m\n\u001b[1;32m     58\u001b[0m     inside_exp_x \u001b[38;5;241m=\u001b[39m \u001b[38;5;241m-\u001b[39m\u001b[38;5;241m0.5\u001b[39m \u001b[38;5;241m*\u001b[39m square_diff_between_mu_and_x \u001b[38;5;241m/\u001b[39m (torch\u001b[38;5;241m.\u001b[39mexp(r2_x_log_var) \u001b[38;5;241m+\u001b[39m small_constant)\n",
      "\u001b[0;31mTypeError\u001b[0m: log(): argument 'input' (position 1) must be Tensor, not float"
     ]
    }
   ],
   "source": [
    "print(\"Start training CVAE...\")\n",
    "avg_total_losses = []\n",
    "avg_reproduction_losses = []\n",
    "avg_kld_losses = []\n",
    "\n",
    "avg_total_losses_validation = []\n",
    "avg_reproduction_losses_validation = []\n",
    "avg_kld_losses_validation = []\n",
    "\n",
    "noise = torch.randn(batch_size, latent_dim).to(DEVICE)\n",
    "condition_noise = torch.tensor([0.1] * batch_size, dtype=torch.float32).to(DEVICE).unsqueeze(1)\n",
    "\n",
    "# validation data for validation\n",
    "validation_data = []\n",
    "validation_conditions = []\n",
    "for x_validation, y_validation in validation_dataloader:\n",
    "    validation_data.append(x_validation.to(torch.float32).to(DEVICE))\n",
    "    validation_conditions.append(y_validation.to(torch.float32).to(DEVICE).unsqueeze(1))\n",
    "validation_data = torch.cat(validation_data, dim=0)\n",
    "validation_conditions = torch.cat(validation_conditions, dim=0)\n",
    "\n",
    "for epoch in tqdm(range(epochs), desc=\"Training\"):\n",
    "    overall_total_loss = 0\n",
    "    overall_reproduction_loss = 0\n",
    "    overall_kld_loss = 0\n",
    "\n",
    "    overall_total_loss_validation = 0\n",
    "    overall_reproduction_loss_validation = 0\n",
    "    overall_kld_loss_validation = 0\n",
    "\n",
    "    total_samples = 0\n",
    "\n",
    "    for batch_idx, (y, x) in enumerate(train_dataloader, 0):\n",
    "        model.train()\n",
    "        y = y.view(x.size(0), -1)  # Reshape to (batch_size, 256) if needed\n",
    "        y = y.to(DEVICE)\n",
    "        # reshape to (batch_size, 27) if needed\n",
    "        x = x.view(x.size(0), -1)  # Reshape to (batch_size, 256) if needed\n",
    "        x = x.to(DEVICE)\n",
    "\n",
    "        optimizer.zero_grad()\n",
    "\n",
    "        r2_x_mean, total_loss, recontruction_loss_x, KLD = model(x, y, epoch)\n",
    "        \n",
    "        overall_total_loss += total_loss.item()\n",
    "        overall_reproduction_loss += recontruction_loss_x.item()\n",
    "        overall_kld_loss += KLD.item()\n",
    "        total_samples += x.size(0)\n",
    "\n",
    "        total_loss.backward()\n",
    "        optimizer.step()\n",
    "\n",
    "        # validation losses\n",
    "        model.eval()\n",
    "        # with torch.no_grad():\n",
    "        #     x_validation = validation_data\n",
    "        #     y_validation = validation_conditions\n",
    "        #     x_validation = x_validation.view(x_validation.size(0), -1).to(DEVICE)\n",
    "        #     x_hat_validation, mean_validation, log_var_validation = model(x_validation, y_validation)\n",
    "        #     total_loss_validation, reproduction_loss_validation, kld_loss_validation = loss_function(x_validation, x_hat_validation, mean_validation, log_var_validation)\n",
    "\n",
    "    # summarise training losses\n",
    "    avg_total_loss = overall_total_loss / total_samples\n",
    "    avg_reproduction_loss = overall_reproduction_loss / total_samples\n",
    "    avg_kld_loss = overall_kld_loss / total_samples\n",
    "\n",
    "    avg_total_losses.append(avg_total_loss)\n",
    "    avg_reproduction_losses.append(avg_reproduction_loss)\n",
    "    avg_kld_losses.append(avg_kld_loss)\n",
    "\n",
    "    # summarise validation losses\n",
    "    # avg_total_loss_validation = total_loss_validation.item() / x_validation.size(0)\n",
    "    # avg_reproduction_loss_validation = reproduction_loss_validation.item() / x_validation.size(0)\n",
    "    # avg_kld_loss_validation = kld_loss_validation.item() / x_validation.size(0)\n",
    "\n",
    "    # avg_total_losses_validation.append(avg_total_loss_validation)\n",
    "    # avg_reproduction_losses_validation.append(avg_reproduction_loss_validation)\n",
    "    # avg_kld_losses_validation.append(avg_kld_loss_validation)\n",
    "\n",
    "    # tqdm.write(f'Epoch {epoch+1}, Train Loss: {avg_total_loss:.4f}, Val Loss: {avg_total_loss_validation:.4f}')\n",
    "\n",
    "    if (epoch + 1) % 10 == 0:\n",
    "        x = x.cpu().detach()\n",
    "        x_hat = x_hat.cpu().detach()\n",
    "        plot_reconstruction(x[0], x_hat[0], max_value=train_dataset.max_value)\n",
    "\n",
    "        with torch.no_grad():\n",
    "            generated_signals = model.decoder(noise, condition_noise).cpu().detach().numpy()\n",
    "        \n",
    "        plot_waveform_grid(signals=generated_signals, max_value=train_dataset.max_value)\n",
    "\n",
    "        idx1 = torch.randint(0, x.size(0), (1,)).item()\n",
    "        idx2 = idx1\n",
    "\n",
    "        while idx2 == idx1: # ensures we don't sample the same signal\n",
    "            idx2 = torch.randint(0, x.size(0), (1,)).item()\n",
    "\n",
    "        signal_1 = x[idx1].to(DEVICE)\n",
    "        signal_2 = x[idx2].to(DEVICE)\n",
    "        condition_1 = y[idx1].to(DEVICE)\n",
    "        condition_2 = y[idx2].to(DEVICE)\n",
    "        \n",
    "        # plot_latent_morphs(model_conditional, signal_1, signal_2, max_value=train_dataset.max_value, steps=8)\n",
    "\n",
    "print(\"Training finished!\")\n",
    "model.eval()"
   ]
  },
  {
   "cell_type": "markdown",
   "metadata": {},
   "source": [
    "### Training and Validation Loss"
   ]
  },
  {
   "cell_type": "code",
   "execution_count": null,
   "metadata": {},
   "outputs": [],
   "source": [
    "plot_training_validation_loss(avg_total_losses, avg_total_losses_validation)"
   ]
  },
  {
   "cell_type": "code",
   "execution_count": null,
   "metadata": {},
   "outputs": [],
   "source": [
    "plot_individual_loss(avg_total_losses, avg_reproduction_losses, avg_kld_losses)"
   ]
  },
  {
   "cell_type": "markdown",
   "metadata": {},
   "source": [
    "### Generated XXXXX Signals"
   ]
  },
  {
   "cell_type": "code",
   "execution_count": null,
   "metadata": {},
   "outputs": [],
   "source": [
    "number_of_signals = 10000\n",
    "noise = torch.randn(number_of_signals, latent_dim).to(DEVICE)\n",
    "\n",
    "start_time = time.time()\n",
    "with torch.no_grad():\n",
    "    generated_signals = model.decoder(noise).cpu().detach().numpy()\n",
    "end_time = time.time()\n",
    "\n",
    "execution_time = end_time - start_time\n",
    "print(\"Execution Time:\", execution_time, \"seconds\")"
   ]
  },
  {
   "cell_type": "code",
   "execution_count": null,
   "metadata": {},
   "outputs": [],
   "source": [
    "# generated_signals_transpose = np.empty((x_length, 0))\n",
    "\n",
    "for i in range(number_of_signals):\n",
    "    y = generated_signals[i, :].flatten()\n",
    "    y = y * train_dataset.max_value\n",
    "    y = y.reshape(-1, 1)\n",
    "    \n",
    "    generated_signals_transpose = np.concatenate((generated_signals_transpose, y), axis=1)\n",
    "\n",
    "# save_path = \"../generated_signals.csv\"\n",
    "np.savetxt(save_path, generated_signals_transpose, delimiter=\",\")"
   ]
  },
  {
   "cell_type": "markdown",
   "metadata": {},
   "source": [
    "### Plot Generated Distribution"
   ]
  },
  {
   "cell_type": "code",
   "execution_count": null,
   "metadata": {},
   "outputs": [],
   "source": [
    "plot_signal_distribution(generated_signals_transpose, generated=True)"
   ]
  },
  {
   "cell_type": "markdown",
   "metadata": {},
   "source": [
    "### Morph Animation"
   ]
  },
  {
   "cell_type": "code",
   "execution_count": null,
   "metadata": {},
   "outputs": [],
   "source": [
    "# select signals here\n",
    "\n",
    "# plot and save animations\n",
    "signal_1 = x[0].to(DEVICE)\n",
    "signal_2 = x[7].to(DEVICE)\n",
    "# animate_latent_morphs(model, signal_1, signal_2, train_dataset.max_value, train_dataset, steps=100, interval=200, save_path=\"latent_morph_animation_3.gif\")"
   ]
  }
 ],
 "metadata": {
  "kernelspec": {
   "display_name": ".venv",
   "language": "python",
   "name": "python3"
  },
  "language_info": {
   "codemirror_mode": {
    "name": "ipython",
    "version": 3
   },
   "file_extension": ".py",
   "mimetype": "text/x-python",
   "name": "python",
   "nbconvert_exporter": "python",
   "pygments_lexer": "ipython3",
   "version": "3.9.6"
  }
 },
 "nbformat": 4,
 "nbformat_minor": 2
}
