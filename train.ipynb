{
 "cells": [
  {
   "cell_type": "markdown",
   "metadata": {},
   "source": [
    "# Training"
   ]
  },
  {
   "cell_type": "code",
   "execution_count": 1,
   "metadata": {},
   "outputs": [],
   "source": [
    "import time"
   ]
  },
  {
   "cell_type": "code",
   "execution_count": null,
   "metadata": {},
   "outputs": [],
   "source": [
    "import numpy as np\n",
    "import pandas as pd\n",
    "import torch\n",
    "import torch.nn as nn\n",
    "from torch.optim import Adam\n",
    "from torch.utils.data import DataLoader\n",
    "from tqdm import tqdm"
   ]
  },
  {
   "cell_type": "code",
   "execution_count": null,
   "metadata": {},
   "outputs": [],
   "source": [
    "import matplotlib.pyplot as plt\n",
    "import matplotlib.animation as animation\n",
    "from mpl_toolkits.mplot3d import Axes3D"
   ]
  },
  {
   "cell_type": "code",
   "execution_count": null,
   "metadata": {},
   "outputs": [],
   "source": [
    "from src.starcattovae.training.data import Data\n",
    "\n",
    "from src.starcattovae.nn.vae import VAE\n",
    "from src.starcattovae.nn.cvae import CVAE"
   ]
  },
  {
   "cell_type": "code",
   "execution_count": null,
   "metadata": {},
   "outputs": [],
   "source": [
    "from src.starcattovae.plotting import plot_loss\n",
    "from src.starcattovae.plotting import plot_individual_loss\n",
    "from src.starcattovae.plotting import plot_training_validation_loss\n",
    "from src.starcattovae.plotting import plot_reconstruction\n",
    "from src.starcattovae.plotting import plot_waveform_grid\n",
    "from src.starcattovae.plotting import plot_latent_morphs\n",
    "from src.starcattovae.plotting import animate_latent_morphs\n",
    "from src.starcattovae.plotting import plot_signal_distribution\n",
    "from src.starcattovae.plotting import plot_single_signal"
   ]
  },
  {
   "cell_type": "code",
   "execution_count": null,
   "metadata": {},
   "outputs": [],
   "source": [
    "manualSeed = 99\n",
    "np.random.seed(manualSeed)\n",
    "torch.manual_seed(manualSeed)\n",
    "torch.use_deterministic_algorithms(True) # reproducibility"
   ]
  },
  {
   "cell_type": "markdown",
   "metadata": {},
   "source": [
    "### Define Parameters"
   ]
  },
  {
   "cell_type": "code",
   "execution_count": null,
   "metadata": {},
   "outputs": [],
   "source": [
    "if torch.backends.mps.is_available() and torch.backends.mps.is_built():\n",
    "    DEVICE = \"mps\"\n",
    "else:\n",
    "    DEVICE = \"cpu\"\n",
    "\n",
    "print(f\"Using device: {DEVICE}\")\n",
    "\n",
    "# model parameters\n",
    "batch_size = 32\n",
    "epochs = 512\n",
    "\n",
    "signal_length = 256\n",
    "hidden_dim = 512\n",
    "latent_dim = 8\n",
    "num_channels = 1\n",
    "lr = 1e-3\n",
    "\n",
    "param_dim = 1"
   ]
  },
  {
   "cell_type": "markdown",
   "metadata": {},
   "source": [
    "## Load Training Data"
   ]
  },
  {
   "cell_type": "code",
   "execution_count": null,
   "metadata": {},
   "outputs": [],
   "source": [
    "np.random.seed(42)\n",
    "indices = np.arange(1684) # this is the number of signals minus all the signals with beta_IC_b less than 0\n",
    "np.random.shuffle(indices)\n",
    "split_ratio = 0.9\n",
    "split_idx = int(len(indices) * split_ratio)\n",
    "train_indices = indices[:split_idx]\n",
    "validation_indices = indices[split_idx:]\n",
    "\n",
    "# Create train and validation datasets\n",
    "train_dataset = Data(indices=train_indices, train=True)\n",
    "validation_dataset = Data(indices=validation_indices, train=False)\n",
    "\n",
    "# Check for overlap\n",
    "train_indices_set = set(train_dataset.get_indices())\n",
    "validation_indices_set = set(validation_dataset.get_indices())\n",
    "\n",
    "overlap = train_indices_set.intersection(validation_indices_set)\n",
    "if len(overlap) == 0:\n",
    "    print(\"Train and validation sets are different.\")\n",
    "else:\n",
    "    print(\"Train and validation sets have overlap.\")"
   ]
  },
  {
   "cell_type": "code",
   "execution_count": null,
   "metadata": {},
   "outputs": [],
   "source": [
    "train_dataset.summary()\n",
    "validation_dataset.summary()"
   ]
  },
  {
   "cell_type": "code",
   "execution_count": null,
   "metadata": {},
   "outputs": [],
   "source": [
    "train_dataloader = DataLoader(train_dataset, batch_size=batch_size, shuffle=True, num_workers=0)\n",
    "validation_dataloader = DataLoader(validation_dataset, batch_size=batch_size, shuffle=False, num_workers=0)"
   ]
  },
  {
   "cell_type": "code",
   "execution_count": null,
   "metadata": {},
   "outputs": [],
   "source": [
    "# Assuming you have a PyTorch DataLoader\n",
    "for batch in train_dataloader:  # train_dataloader is the DataLoader object\n",
    "    data_example, param = batch  # Unpack batch\n",
    "    data_shape = data_example.shape\n",
    "    condition_dim = param.shape[1] if len(param.shape) > 1 else 1  # Assuming batch first\n",
    "\n",
    "    print(f\"Data shape: {data_shape}\")\n",
    "    print(f\"Parameter shape: {param.shape}\")\n",
    "    print(f\"Parameter example: {param[0]}\")\n",
    "    break  # Only process the first batch"
   ]
  },
  {
   "cell_type": "markdown",
   "metadata": {},
   "source": [
    "## Load VAE"
   ]
  },
  {
   "cell_type": "code",
   "execution_count": null,
   "metadata": {},
   "outputs": [],
   "source": [
    "model = VAE(input_dim=signal_length, hidden_dim=hidden_dim, latent_dim=latent_dim, param_dim=param_dim, input_channels=1, DEVICE=DEVICE).to(DEVICE)"
   ]
  },
  {
   "cell_type": "markdown",
   "metadata": {},
   "source": [
    "### Loss Function"
   ]
  },
  {
   "cell_type": "code",
   "execution_count": null,
   "metadata": {},
   "outputs": [],
   "source": [
    "def loss_function(x, x_hat, mean, log_var):\n",
    "    # sse loss\n",
    "    reproduction_loss = nn.functional.mse_loss(x_hat, x, reduction='sum')\n",
    "    reproduction_loss *= 1 * x.shape[1]\n",
    "    \n",
    "    # KL Divergence loss\n",
    "    kld_loss = - 0.5 * torch.sum(1+ log_var - mean.pow(2) - log_var.exp())\n",
    "\n",
    "    # total loss\n",
    "    total_loss = reproduction_loss + kld_loss\n",
    "\n",
    "    return total_loss, reproduction_loss, kld_loss\n",
    "\n",
    "optimizer = Adam(model.parameters(), lr=lr)"
   ]
  },
  {
   "cell_type": "markdown",
   "metadata": {},
   "source": [
    "### Train VAE"
   ]
  },
  {
   "cell_type": "code",
   "execution_count": null,
   "metadata": {},
   "outputs": [],
   "source": [
    "print(\"Start training VAE...\")\n",
    "avg_total_losses = []\n",
    "avg_reproduction_losses = []\n",
    "avg_kld_losses = []\n",
    "\n",
    "avg_total_losses_validation = []\n",
    "avg_reproduction_losses_validation = []\n",
    "avg_kld_losses_validation = []\n",
    "\n",
    "noise = torch.randn(batch_size, latent_dim).to(DEVICE)\n",
    "\n",
    "# validation data for validation\n",
    "validation_data = []\n",
    "for y_validation, x_validation in validation_dataloader:\n",
    "    validation_data.append(y_validation.to(DEVICE))\n",
    "validation_data = torch.cat(validation_data, dim=0)\n",
    "\n",
    "for epoch in tqdm(range(epochs), desc=\"Training\"):\n",
    "    overall_total_loss = 0\n",
    "    overall_reproduction_loss = 0\n",
    "    overall_kld_loss = 0\n",
    "\n",
    "    overall_total_loss_validation = 0\n",
    "    overall_reproduction_loss_validation = 0\n",
    "    overall_kld_loss_validation = 0\n",
    "\n",
    "    total_samples = 0\n",
    "\n",
    "    for batch_idx, (y, x) in enumerate(train_dataloader, 0):\n",
    "        model.train()\n",
    "        x = x.view(x.size(0), -1)  # Reshape to (batch_size, 256) if needed\n",
    "        x = x.to(DEVICE)\n",
    "\n",
    "        y = y.view(y.size(0), -1)\n",
    "        y = y.to(DEVICE)\n",
    "\n",
    "        optimizer.zero_grad()\n",
    "\n",
    "        y_hat, mean, log_var = model(y, x)\n",
    "        total_loss, reproduction_loss, KLD = loss_function(y, y_hat, mean, log_var)\n",
    "        \n",
    "        overall_total_loss += total_loss.item()\n",
    "        overall_reproduction_loss += reproduction_loss.item()\n",
    "        overall_kld_loss += KLD.item()\n",
    "        total_samples += x.size(0)\n",
    "\n",
    "        total_loss.backward()\n",
    "        optimizer.step()\n",
    "\n",
    "        # validation losses\n",
    "        model.eval()\n",
    "        # with torch.no_grad():\n",
    "        #     x_validation = validation_data\n",
    "        #     x_validation = x_validation.view(x_validation.size(0), -1).to(DEVICE)\n",
    "        #     x_hat_validation, mean_validation, log_var_validation = model(x_validation)\n",
    "        #     total_loss_validation, reproduction_loss_validation, kld_loss_validation = loss_function(x_validation, x_hat_validation, mean_validation, log_var_validation)\n",
    "\n",
    "    # summarise training losses\n",
    "    avg_total_loss = overall_total_loss / total_samples\n",
    "    avg_reproduction_loss = overall_reproduction_loss / total_samples\n",
    "    avg_kld_loss = overall_kld_loss / total_samples\n",
    "\n",
    "    avg_total_losses.append(avg_total_loss)\n",
    "    avg_reproduction_losses.append(avg_reproduction_loss)\n",
    "    avg_kld_losses.append(avg_kld_loss)\n",
    "\n",
    "    # summarise validation losses\n",
    "    # avg_total_loss_validation = total_loss_validation.item() / x_validation.size(0)\n",
    "    # avg_reproduction_loss_validation = reproduction_loss_validation.item() / x_validation.size(0)\n",
    "    # avg_kld_loss_validation = kld_loss_validation.item() / x_validation.size(0)\n",
    "\n",
    "    # avg_total_losses_validation.append(avg_total_loss_validation)\n",
    "    # avg_reproduction_losses_validation.append(avg_reproduction_loss_validation)\n",
    "    # avg_kld_losses_validation.append(avg_kld_loss_validation)\n",
    "\n",
    "    # tqdm.write(f'Epoch {epoch+1}, Train Loss: {avg_total_loss:.4f}, Val Loss: {avg_total_loss_validation:.4f}')\n",
    "\n",
    "    if (epoch + 1) % 1 == 0:\n",
    "        x = x.cpu().detach()\n",
    "        y = y.cpu().detach()\n",
    "        y_hat = y_hat.cpu().detach()\n",
    "        plot_reconstruction(y[0], y_hat[0], max_value=train_dataset.max_value)\n",
    "        plot_single_signal(y[0], max_value=train_dataset.max_value)\n",
    "        plot_single_signal(y_hat[0], max_value=train_dataset.max_value)\n",
    "\n",
    "        # make x_prime size 32 by 1\n",
    "        x_prime = torch.full((32, 1), 0.05)\n",
    "        x_prime = x_prime.to(DEVICE)\n",
    "\n",
    "        with torch.no_grad():\n",
    "            generated_signals = model.decoder(noise, x_prime).cpu().detach().numpy()\n",
    "        \n",
    "        plot_waveform_grid(signals=generated_signals, max_value=train_dataset.max_value)\n",
    "\n",
    "        idx1 = torch.randint(0, x.size(0), (1,)).item()\n",
    "        idx2 = idx1\n",
    "\n",
    "        while idx2 == idx1: # ensures we don't sample the same signal\n",
    "            idx2 = torch.randint(0, x.size(0), (1,)).item()\n",
    "\n",
    "        signal_1 = x[idx1].to(DEVICE)\n",
    "        signal_2 = x[idx2].to(DEVICE)\n",
    "        print(signal_1.shape)\n",
    "        # plot_latent_morphs(model, signal_1, signal_2, max_value=train_dataset.max_value, steps=8)\n",
    "        # filename = f\"gifs/latent_morph_animation_epoch_{epoch+1}.gif\"\n",
    "        # animate_latent_morphs(model, signal_1, signal_2, train_dataset.max_value, train_dataset, steps=100, interval=200, save_path=filename)        \n",
    "\n",
    "print(\"Training finished!\")\n",
    "model.eval()"
   ]
  },
  {
   "cell_type": "markdown",
   "metadata": {},
   "source": [
    "### Training and Validation Loss"
   ]
  },
  {
   "cell_type": "code",
   "execution_count": null,
   "metadata": {},
   "outputs": [],
   "source": [
    "plot_training_validation_loss(avg_total_losses, avg_total_losses_validation)"
   ]
  },
  {
   "cell_type": "code",
   "execution_count": null,
   "metadata": {},
   "outputs": [],
   "source": [
    "plot_individual_loss(avg_total_losses, avg_reproduction_losses, avg_kld_losses)"
   ]
  },
  {
   "cell_type": "markdown",
   "metadata": {},
   "source": [
    "### Generated XXXXX Signals"
   ]
  },
  {
   "cell_type": "code",
   "execution_count": null,
   "metadata": {},
   "outputs": [],
   "source": [
    "number_of_signals = 10000\n",
    "noise = torch.randn(number_of_signals, latent_dim).to(DEVICE)\n",
    "\n",
    "start_time = time.time()\n",
    "with torch.no_grad():\n",
    "    generated_signals = model.decoder(noise).cpu().detach().numpy()\n",
    "end_time = time.time()\n",
    "\n",
    "execution_time = end_time - start_time\n",
    "print(\"Execution Time:\", execution_time, \"seconds\")"
   ]
  },
  {
   "cell_type": "code",
   "execution_count": null,
   "metadata": {},
   "outputs": [],
   "source": [
    "generated_signals_transpose = np.empty((x_length, 0))\n",
    "\n",
    "for i in range(number_of_signals):\n",
    "    y = generated_signals[i, :].flatten()\n",
    "    y = y * train_dataset.max_value\n",
    "    y = y.reshape(-1, 1)\n",
    "    \n",
    "    generated_signals_transpose = np.concatenate((generated_signals_transpose, y), axis=1)\n",
    "\n",
    "# save_path = \"../generated_signals.csv\"\n",
    "np.savetxt(save_path, generated_signals_transpose, delimiter=\",\")"
   ]
  },
  {
   "cell_type": "markdown",
   "metadata": {},
   "source": [
    "### Plot Generated Distribution"
   ]
  },
  {
   "cell_type": "code",
   "execution_count": null,
   "metadata": {},
   "outputs": [],
   "source": [
    "plot_signal_distribution(generated_signals_transpose, generated=True)"
   ]
  },
  {
   "cell_type": "markdown",
   "metadata": {},
   "source": [
    "### Morph Animation"
   ]
  },
  {
   "cell_type": "code",
   "execution_count": null,
   "metadata": {},
   "outputs": [],
   "source": [
    "# select signals here\n",
    "\n",
    "# plot and save animations\n",
    "signal_1 = x[0].to(DEVICE)\n",
    "signal_2 = x[7].to(DEVICE)\n",
    "# animate_latent_morphs(model, signal_1, signal_2, train_dataset.max_value, train_dataset, steps=100, interval=200, save_path=\"latent_morph_animation_3.gif\")"
   ]
  }
 ],
 "metadata": {
  "kernelspec": {
   "display_name": "Python 3",
   "language": "python",
   "name": "python3"
  },
  "language_info": {
   "codemirror_mode": {
    "name": "ipython",
    "version": 3
   },
   "file_extension": ".py",
   "mimetype": "text/x-python",
   "name": "python",
   "nbconvert_exporter": "python",
   "pygments_lexer": "ipython3",
   "version": "3.9.6"
  }
 },
 "nbformat": 4,
 "nbformat_minor": 2
}
